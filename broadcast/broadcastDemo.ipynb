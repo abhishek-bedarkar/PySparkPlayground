{
 "cells": [
  {
   "cell_type": "code",
   "execution_count": 15,
   "id": "8dc302ae-d512-4bf0-b901-164de0bf40d7",
   "metadata": {
    "tags": []
   },
   "outputs": [],
   "source": [
    "import pyspark\n",
    "from pyspark.sql import SparkSession\n",
    "spark = SparkSession.builder \\\n",
    "                    .master('local[1]') \\\n",
    "                    .appName('broadcast state details') \\\n",
    "                    .getOrCreate()"
   ]
  },
  {
   "cell_type": "code",
   "execution_count": 19,
   "id": "38f8c4c5-674d-416b-98b5-9b2ff075e893",
   "metadata": {
    "tags": []
   },
   "outputs": [],
   "source": [
    "stateDetails = {'CA': 'California',\n",
    "                'NY': 'New York',\n",
    "                'FL': 'Florida'}\n",
    "\n",
    "broadcastStates = spark.sparkContext.broadcast(stateDetails)\n"
   ]
  },
  {
   "cell_type": "code",
   "execution_count": 20,
   "id": "2935d96a-0c57-4db4-a3e7-2ebda3e54fc0",
   "metadata": {
    "tags": []
   },
   "outputs": [],
   "source": [
    "def getStateName(id):\n",
    "    return broadcastStates.value[id]\n"
   ]
  },
  {
   "cell_type": "code",
   "execution_count": 22,
   "id": "7afe3c63-a3f6-4dee-9ee6-fd4d6d1c70c7",
   "metadata": {
    "tags": []
   },
   "outputs": [
    {
     "data": {
      "text/plain": [
       "[('James', 'Smith', 'USA', 'California'),\n",
       " ('Michael', 'Rose', 'USA', 'New York'),\n",
       " ('Robert', 'Williams', 'USA', 'California'),\n",
       " ('Maria', 'Jones', 'USA', 'Florida')]"
      ]
     },
     "execution_count": 22,
     "metadata": {},
     "output_type": "execute_result"
    }
   ],
   "source": [
    "data = [(\"James\",\"Smith\",\"USA\",\"CA\"),\n",
    "    (\"Michael\",\"Rose\",\"USA\",\"NY\"),\n",
    "    (\"Robert\",\"Williams\",\"USA\",\"CA\"),\n",
    "    (\"Maria\",\"Jones\",\"USA\",\"FL\")\n",
    "  ]\n",
    "\n",
    "rdd = spark.sparkContext.parallelize(data).map(lambda x: (x[0],x[1],x[2], getStateName(x[3])))\n",
    "rdd.collect()                                               \n"
   ]
  }
 ],
 "metadata": {
  "kernelspec": {
   "display_name": "Python 3 (ipykernel)",
   "language": "python",
   "name": "python3"
  },
  "language_info": {
   "codemirror_mode": {
    "name": "ipython",
    "version": 3
   },
   "file_extension": ".py",
   "mimetype": "text/x-python",
   "name": "python",
   "nbconvert_exporter": "python",
   "pygments_lexer": "ipython3",
   "version": "3.11.3"
  }
 },
 "nbformat": 4,
 "nbformat_minor": 5
}
