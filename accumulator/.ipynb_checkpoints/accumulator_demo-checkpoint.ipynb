{
 "cells": [
  {
   "cell_type": "code",
   "execution_count": 1,
   "id": "c22d0dda-c8af-43b0-bc21-87002c9ac3dd",
   "metadata": {
    "tags": []
   },
   "outputs": [],
   "source": [
    "import pyspark\n",
    "from pyspark.sql import SparkSession"
   ]
  },
  {
   "cell_type": "code",
   "execution_count": 2,
   "id": "78a452f9-c953-4b8c-ae45-7b662e53fc49",
   "metadata": {
    "tags": []
   },
   "outputs": [
    {
     "name": "stderr",
     "output_type": "stream",
     "text": [
      "23/07/26 23:25:30 WARN SparkSession: Using an existing Spark session; only runtime SQL configurations will take effect.\n"
     ]
    }
   ],
   "source": [
    "spark = SparkSession.builder.appName(\"accumulator demo\").getOrCreate()"
   ]
  },
  {
   "cell_type": "code",
   "execution_count": 4,
   "id": "8b4a5c1e-c932-4164-8239-860fb5d94e2d",
   "metadata": {
    "tags": []
   },
   "outputs": [],
   "source": [
    "accum = spark.sparkContext.accumulator(0)"
   ]
  },
  {
   "cell_type": "code",
   "execution_count": 5,
   "id": "f0238afe-a0c9-41df-b265-db08e9dcd1e7",
   "metadata": {
    "tags": []
   },
   "outputs": [],
   "source": [
    "rdd = spark.sparkContext.parallelize([1,2,3,4,5])"
   ]
  },
  {
   "cell_type": "code",
   "execution_count": 6,
   "id": "a1c81f1c-6902-43cb-a992-b1f941846446",
   "metadata": {
    "tags": []
   },
   "outputs": [
    {
     "name": "stderr",
     "output_type": "stream",
     "text": [
      "                                                                                \r"
     ]
    }
   ],
   "source": [
    "rdd.foreach(lambda x : accum.add(x))"
   ]
  },
  {
   "cell_type": "code",
   "execution_count": 7,
   "id": "59445115-23f5-44ba-b5b7-05f6a84a6be8",
   "metadata": {
    "tags": []
   },
   "outputs": [
    {
     "name": "stdout",
     "output_type": "stream",
     "text": [
      "15\n"
     ]
    }
   ],
   "source": [
    "print(accum)"
   ]
  },
  {
   "cell_type": "code",
   "execution_count": 12,
   "id": "3b3b5a5c-6818-4b29-b92d-36749d5ce3bb",
   "metadata": {
    "tags": []
   },
   "outputs": [],
   "source": [
    "accum2 = spark.sparkContext.accumulator(0)\n",
    "\n",
    "def addSharedVariable(x):\n",
    "    global accum2\n",
    "    accum2 += x\n"
   ]
  },
  {
   "cell_type": "code",
   "execution_count": 13,
   "id": "63042114-c439-4d1f-be0e-09a416c01834",
   "metadata": {
    "tags": []
   },
   "outputs": [],
   "source": [
    "rdd.foreach(addSharedVariable)"
   ]
  },
  {
   "cell_type": "code",
   "execution_count": 14,
   "id": "629ce95e-fe6d-460f-8460-f852212c83e0",
   "metadata": {
    "tags": []
   },
   "outputs": [
    {
     "name": "stdout",
     "output_type": "stream",
     "text": [
      "15\n"
     ]
    }
   ],
   "source": [
    "print(accum2)"
   ]
  }
 ],
 "metadata": {
  "kernelspec": {
   "display_name": "Python 3 (ipykernel)",
   "language": "python",
   "name": "python3"
  },
  "language_info": {
   "codemirror_mode": {
    "name": "ipython",
    "version": 3
   },
   "file_extension": ".py",
   "mimetype": "text/x-python",
   "name": "python",
   "nbconvert_exporter": "python",
   "pygments_lexer": "ipython3",
   "version": "3.11.3"
  }
 },
 "nbformat": 4,
 "nbformat_minor": 5
}
