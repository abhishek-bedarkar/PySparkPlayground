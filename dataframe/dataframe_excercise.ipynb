{
 "cells": [
  {
   "cell_type": "code",
   "execution_count": 1,
   "id": "b90279de-317e-4ff6-92d1-f0c5d32cd11f",
   "metadata": {
    "tags": []
   },
   "outputs": [
    {
     "name": "stderr",
     "output_type": "stream",
     "text": [
      "23/07/28 16:31:38 WARN SparkSession: Using an existing Spark session; only runtime SQL configurations will take effect.\n"
     ]
    }
   ],
   "source": [
    "import pyspark\n",
    "from pyspark.sql import SparkSession\n",
    "\n",
    "sc = SparkSession.builder.appName(\"Dataframe excercise\").getOrCreate()"
   ]
  },
  {
   "cell_type": "code",
   "execution_count": 2,
   "id": "e94deb49-61e3-4d6a-94e7-ae48a0b7107e",
   "metadata": {
    "tags": []
   },
   "outputs": [],
   "source": [
    "from pyspark.sql.types import StructType, StructField,StringType, IntegerType\n",
    "schema = StructType([StructField(\"name\", StringType(), True),\n",
    "                     StructField(\"age\", IntegerType(), True)])"
   ]
  },
  {
   "cell_type": "code",
   "execution_count": 3,
   "id": "d5e12fed-da5a-45c6-a52e-2c9b29b1bf33",
   "metadata": {
    "tags": []
   },
   "outputs": [],
   "source": [
    "data = [('Sam',26),\n",
    "       ('Peter', 25),\n",
    "       ('Rahul',22)]"
   ]
  },
  {
   "cell_type": "code",
   "execution_count": 4,
   "id": "682682d5-e7fb-4f73-9be5-493f7e37263d",
   "metadata": {
    "tags": []
   },
   "outputs": [],
   "source": [
    " df = spark.createDataFrame(data, schema)"
   ]
  },
  {
   "cell_type": "code",
   "execution_count": 5,
   "id": "063ccd3a-25a3-4c8b-b5a6-513604049d83",
   "metadata": {
    "tags": []
   },
   "outputs": [
    {
     "name": "stdout",
     "output_type": "stream",
     "text": [
      "root\n",
      " |-- name: string (nullable = true)\n",
      " |-- age: integer (nullable = true)\n",
      "\n"
     ]
    }
   ],
   "source": [
    "df.printSchema()"
   ]
  },
  {
   "cell_type": "code",
   "execution_count": 6,
   "id": "69ec4e41-13b2-4657-9f19-36f09642daaf",
   "metadata": {
    "tags": []
   },
   "outputs": [
    {
     "name": "stdout",
     "output_type": "stream",
     "text": [
      "+-----+---+\n",
      "| name|age|\n",
      "+-----+---+\n",
      "|  Sam| 26|\n",
      "|Peter| 25|\n",
      "|Rahul| 22|\n",
      "+-----+---+\n",
      "\n"
     ]
    }
   ],
   "source": [
    "df.show()"
   ]
  },
  {
   "cell_type": "code",
   "execution_count": 7,
   "id": "c94a555a-8af9-4e3d-ae76-42f72a8e65e0",
   "metadata": {
    "tags": []
   },
   "outputs": [],
   "source": [
    "nestedData = [\n",
    "    ((\"James\",\"\",\"Smith\"),\"36636\",\"M\",3100),\n",
    "    ((\"Michael\",\"Rose\",\"\"),\"40288\",\"M\",4300),\n",
    "    ((\"Robert\",\"\",\"Williams\"),\"42114\",\"M\",1400),\n",
    "    ((\"Maria\",\"Anne\",\"Jones\"),\"39192\",\"F\",5500),\n",
    "    ((\"Jen\",\"Mary\",\"Brown\"),\"\",\"F\",-1)\n",
    "  ]\n",
    "\n",
    "nestedStruct = StructType([ StructField('name', \n",
    "                                        StructType([ \n",
    "                                            StructField('firstName', StringType(), True),\n",
    "                                            StructField('middleName', StringType(), True),\n",
    "                                            StructField('lastName', StringType(), True)]), True),\n",
    "                            StructField('id', StringType(), True),\n",
    "                            StructField('gender', StringType(), True),\n",
    "                            StructField('salary', IntegerType(), False)])"
   ]
  },
  {
   "cell_type": "code",
   "execution_count": 8,
   "id": "85609b99-5bf6-4215-9fa3-d47e2edc1ec9",
   "metadata": {
    "tags": []
   },
   "outputs": [
    {
     "name": "stdout",
     "output_type": "stream",
     "text": [
      "root\n",
      " |-- name: struct (nullable = true)\n",
      " |    |-- firstName: string (nullable = true)\n",
      " |    |-- middleName: string (nullable = true)\n",
      " |    |-- lastName: string (nullable = true)\n",
      " |-- id: string (nullable = true)\n",
      " |-- gender: string (nullable = true)\n",
      " |-- salary: integer (nullable = false)\n",
      "\n"
     ]
    }
   ],
   "source": [
    "df = spark.createDataFrame(nestedData, schema=nestedStruct)\n",
    "df.printSchema()"
   ]
  },
  {
   "cell_type": "code",
   "execution_count": 9,
   "id": "cd5ce36f-64bc-4ffb-a669-ea1e95f2a218",
   "metadata": {
    "tags": []
   },
   "outputs": [
    {
     "name": "stdout",
     "output_type": "stream",
     "text": [
      "+--------------------+-----+------+------+\n",
      "|                name|   id|gender|salary|\n",
      "+--------------------+-----+------+------+\n",
      "|    {James, , Smith}|36636|     M|  3100|\n",
      "|   {Michael, Rose, }|40288|     M|  4300|\n",
      "|{Robert, , Williams}|42114|     M|  1400|\n",
      "|{Maria, Anne, Jones}|39192|     F|  5500|\n",
      "|  {Jen, Mary, Brown}|     |     F|    -1|\n",
      "+--------------------+-----+------+------+\n",
      "\n"
     ]
    }
   ],
   "source": [
    "df.show()"
   ]
  },
  {
   "cell_type": "code",
   "execution_count": 10,
   "id": "7f2d4956-5c5e-4491-ab5b-0078a8d83fcb",
   "metadata": {
    "tags": []
   },
   "outputs": [
    {
     "name": "stdout",
     "output_type": "stream",
     "text": [
      "root\n",
      " |-- name: struct (nullable = true)\n",
      " |    |-- firstName: string (nullable = true)\n",
      " |    |-- middleName: string (nullable = true)\n",
      " |    |-- lastName: string (nullable = true)\n",
      " |-- id: string (nullable = true)\n",
      " |-- salary_details: struct (nullable = false)\n",
      " |    |-- monthly_payment: integer (nullable = false)\n",
      " |    |-- salary_type: string (nullable = false)\n",
      "\n"
     ]
    }
   ],
   "source": [
    "from pyspark.sql.functions import struct, when, col\n",
    "df2 = df.withColumn('salary_details', struct( col('salary').alias('monthly_payment'),\n",
    "                                              when(col('gender') == 'M','type1')\n",
    "                                             .otherwise('type2')\n",
    "                                             .alias('salary_type'))).drop('gender', 'salary')\n",
    "df2.printSchema()"
   ]
  },
  {
   "cell_type": "code",
   "execution_count": 11,
   "id": "86ef2a73-91b4-463f-91ae-55e957d05ef3",
   "metadata": {
    "tags": []
   },
   "outputs": [
    {
     "name": "stdout",
     "output_type": "stream",
     "text": [
      "+--------------------+-----+--------------+\n",
      "|                name|   id|salary_details|\n",
      "+--------------------+-----+--------------+\n",
      "|    {James, , Smith}|36636| {3100, type1}|\n",
      "|   {Michael, Rose, }|40288| {4300, type1}|\n",
      "|{Robert, , Williams}|42114| {1400, type1}|\n",
      "|{Maria, Anne, Jones}|39192| {5500, type2}|\n",
      "|  {Jen, Mary, Brown}|     |   {-1, type2}|\n",
      "+--------------------+-----+--------------+\n",
      "\n"
     ]
    }
   ],
   "source": [
    "df2.show()"
   ]
  },
  {
   "cell_type": "code",
   "execution_count": 12,
   "id": "23200345-46d8-426b-8f6f-38462d762d49",
   "metadata": {
    "tags": []
   },
   "outputs": [
    {
     "name": "stdout",
     "output_type": "stream",
     "text": [
      "root\n",
      " |-- name: struct (nullable = true)\n",
      " |    |-- firstName: string (nullable = true)\n",
      " |    |-- middleName: string (nullable = true)\n",
      " |    |-- lastName: string (nullable = true)\n",
      " |-- id: string (nullable = true)\n",
      " |-- salary_details: struct (nullable = false)\n",
      " |    |-- monthly_payment: integer (nullable = false)\n",
      " |    |-- salary_type: string (nullable = false)\n",
      " |-- department: string (nullable = false)\n",
      "\n"
     ]
    }
   ],
   "source": [
    "from pyspark.sql.functions import lit\n",
    "df3 = df2.withColumn('department',lit('engg'))\n",
    "df3.printSchema()"
   ]
  },
  {
   "cell_type": "code",
   "execution_count": 13,
   "id": "92e44c17-c50d-45b4-9320-afafdcbdad9f",
   "metadata": {
    "tags": []
   },
   "outputs": [
    {
     "name": "stdout",
     "output_type": "stream",
     "text": [
      "+--------------------+-----+--------------+----------+\n",
      "|                name|   id|salary_details|department|\n",
      "+--------------------+-----+--------------+----------+\n",
      "|    {James, , Smith}|36636| {3100, type1}|      engg|\n",
      "|   {Michael, Rose, }|40288| {4300, type1}|      engg|\n",
      "|{Robert, , Williams}|42114| {1400, type1}|      engg|\n",
      "|{Maria, Anne, Jones}|39192| {5500, type2}|      engg|\n",
      "|  {Jen, Mary, Brown}|     |   {-1, type2}|      engg|\n",
      "+--------------------+-----+--------------+----------+\n",
      "\n"
     ]
    }
   ],
   "source": [
    "df3.show()"
   ]
  },
  {
   "cell_type": "code",
   "execution_count": 14,
   "id": "154be933-7d10-4daa-aff8-b68894a9ce65",
   "metadata": {
    "tags": []
   },
   "outputs": [
    {
     "name": "stdout",
     "output_type": "stream",
     "text": [
      "+--------------------+-----+--------------+----------+\n",
      "|                name|   id|salary_details|department|\n",
      "+--------------------+-----+--------------+----------+\n",
      "|    {James, , Smith}|36636| {3100, type1}|      null|\n",
      "|   {Michael, Rose, }|40288| {4300, type1}|      null|\n",
      "|{Robert, , Williams}|42114| {1400, type1}|      null|\n",
      "|{Maria, Anne, Jones}|39192| {5500, type2}|      null|\n",
      "|  {Jen, Mary, Brown}|     |   {-1, type2}|   unknown|\n",
      "+--------------------+-----+--------------+----------+\n",
      "\n"
     ]
    }
   ],
   "source": [
    "df3 = df3.withColumn('department', when(col('id') == '', 'unknown'))\n",
    "df3.show()   "
   ]
  },
  {
   "cell_type": "code",
   "execution_count": 15,
   "id": "e28cd51c-23e3-4ca9-815b-b316fcbb2595",
   "metadata": {
    "tags": []
   },
   "outputs": [
    {
     "name": "stdout",
     "output_type": "stream",
     "text": [
      "+-----------------+\n",
      "|(id + department)|\n",
      "+-----------------+\n",
      "|             null|\n",
      "|             null|\n",
      "|             null|\n",
      "|             null|\n",
      "|             null|\n",
      "+-----------------+\n",
      "\n"
     ]
    }
   ],
   "source": [
    "df3.select(df3.id + df3.department).show()"
   ]
  },
  {
   "cell_type": "code",
   "execution_count": 17,
   "id": "017dde7a-b4d7-4e20-9e12-bee640d22967",
   "metadata": {
    "tags": []
   },
   "outputs": [
    {
     "name": "stdout",
     "output_type": "stream",
     "text": [
      "+-----+--------------+----------+\n",
      "|   id|salary_details|department|\n",
      "+-----+--------------+----------+\n",
      "|36636| {3100, type1}|      null|\n",
      "|40288| {4300, type1}|      null|\n",
      "|42114| {1400, type1}|      null|\n",
      "|39192| {5500, type2}|      null|\n",
      "|     |   {-1, type2}|   unknown|\n",
      "+-----+--------------+----------+\n",
      "\n"
     ]
    }
   ],
   "source": [
    "df3.select(df3.columns[1:]).show()"
   ]
  },
  {
   "cell_type": "code",
   "execution_count": 18,
   "id": "9797d933-c93c-4d40-9491-2db7aeecc4f1",
   "metadata": {
    "tags": []
   },
   "outputs": [
    {
     "name": "stdout",
     "output_type": "stream",
     "text": [
      "+--------------------+-----+--------------+----------+\n",
      "|                name|   id|salary_details|department|\n",
      "+--------------------+-----+--------------+----------+\n",
      "|    {James, , Smith}|36636| {3100, type1}|      null|\n",
      "|   {Michael, Rose, }|40288| {4300, type1}|      null|\n",
      "|{Robert, , Williams}|42114| {1400, type1}|      null|\n",
      "|{Maria, Anne, Jones}|39192| {5500, type2}|      null|\n",
      "|  {Jen, Mary, Brown}|     |   {-1, type2}|   unknown|\n",
      "+--------------------+-----+--------------+----------+\n",
      "\n"
     ]
    }
   ],
   "source": [
    "df3.select([col for col in df3.columns]).show()"
   ]
  },
  {
   "cell_type": "code",
   "execution_count": 19,
   "id": "c04b63a5-3771-4eea-a45f-216b5945caf7",
   "metadata": {
    "tags": []
   },
   "outputs": [
    {
     "data": {
      "text/plain": [
       "[Row(name=Row(firstName='James', middleName='', lastName='Smith'), id='36636', salary_details=Row(monthly_payment=3100, salary_type='type1'), department=None),\n",
       " Row(name=Row(firstName='Michael', middleName='Rose', lastName=''), id='40288', salary_details=Row(monthly_payment=4300, salary_type='type1'), department=None),\n",
       " Row(name=Row(firstName='Robert', middleName='', lastName='Williams'), id='42114', salary_details=Row(monthly_payment=1400, salary_type='type1'), department=None),\n",
       " Row(name=Row(firstName='Maria', middleName='Anne', lastName='Jones'), id='39192', salary_details=Row(monthly_payment=5500, salary_type='type2'), department=None),\n",
       " Row(name=Row(firstName='Jen', middleName='Mary', lastName='Brown'), id='', salary_details=Row(monthly_payment=-1, salary_type='type2'), department='unknown')]"
      ]
     },
     "execution_count": 19,
     "metadata": {},
     "output_type": "execute_result"
    }
   ],
   "source": [
    "df3.collect()"
   ]
  },
  {
   "cell_type": "code",
   "execution_count": 20,
   "id": "bcd6b8b5-9e56-4906-89d7-43ecb5fda34e",
   "metadata": {
    "tags": []
   },
   "outputs": [
    {
     "name": "stdout",
     "output_type": "stream",
     "text": [
      "root\n",
      " |-- name: struct (nullable = true)\n",
      " |    |-- firstName: string (nullable = true)\n",
      " |    |-- middleName: string (nullable = true)\n",
      " |    |-- lastName: string (nullable = true)\n",
      " |-- id: string (nullable = true)\n",
      " |-- salary_details: struct (nullable = false)\n",
      " |    |-- monthly_payment: integer (nullable = false)\n",
      " |    |-- salary_type: string (nullable = false)\n",
      " |-- department: string (nullable = true)\n",
      "\n"
     ]
    }
   ],
   "source": [
    "df3.printSchema()"
   ]
  },
  {
   "cell_type": "code",
   "execution_count": 22,
   "id": "372b05e4-84d8-494e-ab12-e3941131fa72",
   "metadata": {
    "tags": []
   },
   "outputs": [],
   "source": [
    "# Replace existing dataframe having columns firstName, middleName, lastName and salary\n",
    "\n",
    "df3 = df3.withColumn('firstName', df3.name.firstName).withColumn('middleName', df3.name.middleName).withColumn('lastName', df3.name.lastName).withColumn('salary', df3.salary_details.monthly_payment)"
   ]
  },
  {
   "cell_type": "code",
   "execution_count": 27,
   "id": "fea7d8fb-f081-4150-8cb4-b7627d476f56",
   "metadata": {
    "tags": []
   },
   "outputs": [
    {
     "data": {
      "text/plain": [
       "[Row(firstName='James', middleName='', lastName='Smith', salary=3100),\n",
       " Row(firstName='Michael', middleName='Rose', lastName='', salary=4300)]"
      ]
     },
     "execution_count": 27,
     "metadata": {},
     "output_type": "execute_result"
    }
   ],
   "source": [
    "for c in ['name','id', 'salary_details', 'department']:\n",
    "    df3 = df3.drop(col(c))\n",
    "df3.take(2)"
   ]
  },
  {
   "cell_type": "code",
   "execution_count": 36,
   "id": "583a726d-a9a2-4952-88d3-c531af0bad4d",
   "metadata": {
    "tags": []
   },
   "outputs": [
    {
     "name": "stdout",
     "output_type": "stream",
     "text": [
      "+---------+----------+--------+------+\n",
      "|firstName|middleName|lastName|salary|\n",
      "+---------+----------+--------+------+\n",
      "|    James|          |   Smith|  3100|\n",
      "|    Maria|      Anne|   Jones|  5500|\n",
      "+---------+----------+--------+------+\n",
      "\n"
     ]
    }
   ],
   "source": [
    "df3.filter((df3.salary>3000) & (df3.lastName != '') & (df3.firstName.isin(['James','Maria']))).show()"
   ]
  }
 ],
 "metadata": {
  "kernelspec": {
   "display_name": "Python 3 (ipykernel)",
   "language": "python",
   "name": "python3"
  },
  "language_info": {
   "codemirror_mode": {
    "name": "ipython",
    "version": 3
   },
   "file_extension": ".py",
   "mimetype": "text/x-python",
   "name": "python",
   "nbconvert_exporter": "python",
   "pygments_lexer": "ipython3",
   "version": "3.11.3"
  }
 },
 "nbformat": 4,
 "nbformat_minor": 5
}
